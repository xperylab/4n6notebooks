{
 "cells": [
  {
   "cell_type": "markdown",
   "metadata": {},
   "source": [
    " ## SQLCipher decrypt - signal iOS DB 12.4.1\n",
    " Quick python implementation of SQLCipher decryption "
   ]
  },
  {
   "cell_type": "code",
   "execution_count": 125,
   "metadata": {},
   "outputs": [],
   "source": [
    "import zipfile\n",
    "import tempfile\n",
    "import sqlite3\n",
    "import plistlib\n",
    "from base64 import b64encode, b64decode\n",
    "import os\n",
    "from Crypto.Cipher import AES"
   ]
  },
  {
   "cell_type": "markdown",
   "metadata": {},
   "source": [
    "#### Here goes the paths of necessary files:"
   ]
  },
  {
   "cell_type": "code",
   "execution_count": 152,
   "metadata": {},
   "outputs": [],
   "source": [
    "# iOS file system extraction - only Zip archive currently supported\n",
    "myzip = 'path/to/archive.zip'\n",
    "\n",
    "# Path where to write decrypted archive\n",
    "dec_db_path = 'path/to/signal-decrypted.sqlite'\n",
    "\n",
    "# Path of encrypted archive in the archive\n",
    "enc_db_path = '/private/var/mobile/Containers/Shared/AppGroup/DA91D9C6-9E47-4B14-8468-D347C98D599C/grdb/signal.sqlite'\n",
    "\n",
    "# Path of decrypted keychain plist of the phone (on your FS)\n",
    "keychain_plist_path = 'path/to/keychain.plist'"
   ]
  },
  {
   "cell_type": "markdown",
   "metadata": {},
   "source": [
    "#### 1. Extracting Key from keychain"
   ]
  },
  {
   "cell_type": "code",
   "execution_count": 153,
   "metadata": {},
   "outputs": [],
   "source": [
    "\n",
    "with open(keychain_plist_path,'rb') as f :\n",
    "    plist = plistlib.load(f)\n",
    "    \n",
    "def getSignalKeyFromKeychain():\n",
    "    for d in plist:\n",
    "        for dd in plist[d]:\n",
    "            if type(dd) == dict:        \n",
    "                if 'acct' in dd:\n",
    "                    #print(dd['acct'])\n",
    "                    if dd['acct'] == b'GRDBDatabaseCipherKeySpec':\n",
    "                        return dd['v_Data']\n",
    "    return None\n",
    "\n",
    "key = getSignalKeyFromKeychain()"
   ]
  },
  {
   "cell_type": "markdown",
   "metadata": {},
   "source": [
    "#### 2. Extracting encrypted DB to temp file"
   ]
  },
  {
   "cell_type": "code",
   "execution_count": 154,
   "metadata": {},
   "outputs": [
    {
     "data": {
      "text/plain": [
       "0"
      ]
     },
     "execution_count": 154,
     "metadata": {},
     "output_type": "execute_result"
    }
   ],
   "source": [
    "tmp = tempfile.NamedTemporaryFile()\n",
    "with zipfile.ZipFile(myzip) as zip:\n",
    "    tmp.write(zip.open(enc_db_path).read())\n",
    "    enc_db_size = zip.getinfo(enc_db_path).file_size\n",
    "tmp.seek(0)\n"
   ]
  },
  {
   "cell_type": "markdown",
   "metadata": {},
   "source": [
    "#### 2. Decryption of DB"
   ]
  },
  {
   "cell_type": "code",
   "execution_count": 150,
   "metadata": {},
   "outputs": [],
   "source": [
    "signal_header_size = 0x20\n",
    "default_page_size=0x1000\n",
    "page_size = default_page_size\n",
    "header_size = signal_header_size\n",
    "header = tmp.read(header_size)\n",
    "salt_sz = 0x10\n",
    "hmac_sz = 0x40\n",
    "reserved_sz = salt_sz + hmac_sz\n",
    "max_page = int(enc_db_size / default_page_size)\n",
    "\n",
    "def decrypt_page(page_offset):\n",
    "    if page_offset == 0:\n",
    "        page_data = tmp.read(page_size - header_size)\n",
    "    else:\n",
    "        page_data = tmp.read(page_size)\n",
    "    \n",
    "    iv = page_data[-reserved_sz:-reserved_sz+salt_sz]\n",
    "\n",
    "    decryption_suite = AES.new(key[0][:32], AES.MODE_CBC, iv)\n",
    "    plain_text = decryption_suite.decrypt(page_data[:-reserved_sz])\n",
    "    \n",
    "    return plain_text\n",
    "\n",
    "with open(dec_db_path,'wb') as decrypted:\n",
    "    decrypted.write(header)\n",
    "    \n",
    "    for page in range(0,max_page):\n",
    "        decrypted.write(decrypt_page(page))\n",
    "        decrypted.write(b'\\x00'*reserved_sz)   \n"
   ]
  },
  {
   "cell_type": "code",
   "execution_count": null,
   "metadata": {},
   "outputs": [],
   "source": []
  }
 ],
 "metadata": {
  "kernelspec": {
   "display_name": "Python 3",
   "language": "python",
   "name": "python3"
  },
  "language_info": {
   "codemirror_mode": {
    "name": "ipython",
    "version": 3
   },
   "file_extension": ".py",
   "mimetype": "text/x-python",
   "name": "python",
   "nbconvert_exporter": "python",
   "pygments_lexer": "ipython3",
   "version": "3.9.0"
  }
 },
 "nbformat": 4,
 "nbformat_minor": 4
}
