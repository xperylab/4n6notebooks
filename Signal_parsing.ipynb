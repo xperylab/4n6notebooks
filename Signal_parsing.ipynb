{
 "cells": [
  {
   "cell_type": "markdown",
   "metadata": {},
   "source": [
    "# Parsing iOS decrypted Signal DB"
   ]
  },
  {
   "cell_type": "markdown",
   "metadata": {},
   "source": [
    "### Imports"
   ]
  },
  {
   "cell_type": "code",
   "execution_count": 235,
   "metadata": {},
   "outputs": [],
   "source": [
    "import tempfile\n",
    "import sqlite3\n",
    "import pandas as pd\n",
    "import  plistlib\n",
    "import json\n",
    "import os\n",
    "from PIL import Image\n",
    "from io import BytesIO\n",
    "import base64\n",
    "import zipfile\n",
    "from chat_rendering import chat_HTML, render_chat, includes, CSS"
   ]
  },
  {
   "cell_type": "markdown",
   "metadata": {},
   "source": [
    "### Paths to complete"
   ]
  },
  {
   "cell_type": "code",
   "execution_count": 236,
   "metadata": {},
   "outputs": [],
   "source": [
    "decrypted_db = 'path/to/signal-decrypted.sqlite'\n",
    "ios_fs_zip = 'path/to/ios_fs.zip'\n",
    "out_path = 'path/to/report' # to write attachments"
   ]
  },
  {
   "cell_type": "markdown",
   "metadata": {},
   "source": [
    "### Constants"
   ]
  },
  {
   "cell_type": "code",
   "execution_count": 237,
   "metadata": {},
   "outputs": [],
   "source": [
    "recordTypes = {56: 'baseModel',\n",
    " 55: 'experienceUpgrade',\n",
    " 63: 'incomingGroupsV2MessageJob',\n",
    " 24: 'installedSticker',\n",
    " 29: 'knownStickerPack',\n",
    " 40: '_100RemoveTSRecipientsMigration',\n",
    " 43: '_101ExistingUsersBlockOnIdentityChange',\n",
    " 47: '_102MoveLoggingPreferenceToUserDefaults',\n",
    " 42: '_103EnableVideoCalling',\n",
    " 45: '_104CreateRecipientIdentities',\n",
    " 44: '_105AttachmentFilePaths',\n",
    " 50: '_107LegacySounds',\n",
    " 48: '_108CallLoggingPreference',\n",
    " 51: '_109OutgoingMessageState',\n",
    " 25: 'addToContactsOfferMessage',\n",
    " 7: 'addToProfileWhitelistOfferMessage',\n",
    " 32: 'backupFragment',\n",
    " 58: 'broadcastMediaMessageJobRecord',\n",
    " 22: 'contactOffersInteraction',\n",
    " 57: 'contactQuery',\n",
    " 46: 'databaseMigration',\n",
    " 33: 'device',\n",
    " 28: 'disappearingConfigurationUpdateInfoMessage',\n",
    " 39: 'disappearingMessagesConfiguration',\n",
    " 61: 'incomingContactSyncJobRecord',\n",
    " 60: 'incomingGroupSyncJobRecord',\n",
    " 36: 'linkedDeviceReadReceipt',\n",
    " 15: 'messageContentJob',\n",
    " 8: 'messageDecryptJob',\n",
    " 62: 'reaction',\n",
    " 38: 'recipientIdentity',\n",
    " 49: 'resaveCollectionDBMigration',\n",
    " 52: 'sessionResetJobRecord',\n",
    " 5: 'unknownContactBlockOfferMessage',\n",
    " 37: 'unknownDBObject',\n",
    " 54: 'unknownProtocolVersionMessage',\n",
    " 41: 'userProfile',\n",
    " 13: 'verificationStateChangeMessage',\n",
    " 34: 'jobRecord',\n",
    " 53: 'messageDecryptJobRecord',\n",
    " 35: 'messageSenderJobRecord',\n",
    " 30: 'signalAccount',\n",
    " 31: 'signalRecipient',\n",
    " 14: 'stickerPack',\n",
    " 6: 'attachment',\n",
    " 3: 'attachmentPointer',\n",
    " 18: 'attachmentStream',\n",
    " 20: 'call',\n",
    " 27: 'contactThread',\n",
    " 9: 'errorMessage',\n",
    " 26: 'groupThread',\n",
    " 19: 'incomingMessage',\n",
    " 10: 'infoMessage',\n",
    " 16: 'interaction',\n",
    " 17: 'invalidIdentityKeyErrorMessage',\n",
    " 1: 'invalidIdentityKeyReceivingErrorMessage',\n",
    " 23: 'invalidIdentityKeySendingErrorMessage',\n",
    " 64: 'mention',\n",
    " 11: 'message',\n",
    " 21: 'outgoingMessage',\n",
    " 12: 'recipientReadReceipt',\n",
    " 2: 'thread',\n",
    " 4: 'unreadIndicatorInteraction',\n",
    " 59: 'testModel'\n",
    "}\n",
    "\n",
    "mimeTypeIcon = {\n",
    "    \"image\":\"📷\",\n",
    "    \"audio\":\"🎧\",\n",
    "    \"video\":\"🎥\",\n",
    "    \"animated\":\"🎡\",\n",
    "    \"other\":\"📎\",\n",
    "}"
   ]
  },
  {
   "cell_type": "code",
   "execution_count": null,
   "metadata": {},
   "outputs": [],
   "source": [
    "signal_root = '/private/var/mobile/Containers/Shared/AppGroup/DA91D9C6-9E47-4B14-8468-D347C98D599C/Attachments'"
   ]
  },
  {
   "cell_type": "markdown",
   "metadata": {},
   "source": [
    "### Starting to extract"
   ]
  },
  {
   "cell_type": "code",
   "execution_count": 238,
   "metadata": {},
   "outputs": [],
   "source": [
    "db = sqlite3.connect(decrypted_db)"
   ]
  },
  {
   "cell_type": "code",
   "execution_count": 317,
   "metadata": {},
   "outputs": [],
   "source": [
    "threads = pd.read_sql_query(\"\"\"\n",
    "SELECT \n",
    "    t.contactPhoneNumber, \n",
    "    t.uniqueId as uniqueId_T, \n",
    "    t.lastInteractionRowId, \n",
    "    t.contactUUID,\n",
    "    i.uniqueThreadId,\n",
    "    i.attachmentIds,\n",
    "    i.timestamp,\n",
    "    i.receivedAtTimestamp,\n",
    "    i.body,\n",
    "    i.id,\n",
    "    i.recordType,\n",
    "    i.authorUUID,\n",
    "    i.sender,\n",
    "    i.configurationDurationSeconds,\n",
    "    u.avatarUrlPath,\n",
    "    u.profileName\n",
    "    \n",
    "FROM \n",
    "    model_TSInteraction i\n",
    "    LEFT OUTER JOIN model_TSThread t\n",
    "        ON i.uniqueThreadId = t.uniqueId\n",
    "    LEFT OUTER JOIN model_OWSUserProfile u\n",
    "        on t.contactPhoneNumber = u.recipientPhoneNumber\n",
    "    \n",
    "\"\"\", db)\n",
    "\n",
    "attachments = pd.read_sql_query(\"\"\"\n",
    "SELECT\n",
    "    uniqueId,\n",
    "    caption,\n",
    "    contentType,\n",
    "    sourceFilename,\n",
    "    localRelativeFilePath,\n",
    "    isValidImageCached OR isValidVideoCached as cached\n",
    "FROM\n",
    "    model_TSAttachment\n",
    "\"\"\", db)"
   ]
  },
  {
   "cell_type": "markdown",
   "metadata": {},
   "source": [
    "parsedAttachmentIds field contains the attachements of a message in a binary plist format.\n",
    "Currrently only supporting one attachment per message"
   ]
  },
  {
   "cell_type": "code",
   "execution_count": 318,
   "metadata": {},
   "outputs": [],
   "source": [
    "def parsePlist(record):\n",
    "    try:\n",
    "        d = plistlib.loads(record[\"attachmentIds\"], fmt = plistlib.FMT_BINARY)\n",
    "        if d:\n",
    "            if d['$objects'][1]['NS.objects']:\n",
    "                return d['$objects'][2]\n",
    "        return None\n",
    "    except:\n",
    "        return None\n"
   ]
  },
  {
   "cell_type": "markdown",
   "metadata": {},
   "source": [
    "#### Formatting the DF and extracting attachment to pass to chat_render function"
   ]
  },
  {
   "cell_type": "code",
   "execution_count": 319,
   "metadata": {},
   "outputs": [],
   "source": [
    "threads[\"parsedAttachmentIds\"] = threads.apply(lambda record: parsePlist(record),axis=1)\n",
    "threads_Att = threads.merge(attachments, left_on=\"parsedAttachmentIds\", right_on=\"uniqueId\", how=\"left\")\n",
    "\n",
    "threads_Att[\"recordType\"] = threads.apply(lambda record: recordTypes[record[\"recordType\"]],axis=1)\n",
    "threads_Att[\"data-name\"] = threads_Att.apply(lambda row: row[\"profileName\"] if row[\"profileName\"] is not None else row[\"contactPhoneNumber\"], axis=1)\n",
    "threads_Att[\"from_me\"] = threads_Att.apply(lambda row: 1 if row[\"recordType\"] == \"outgoingMessage\" else 0, axis=1)\n",
    "threads_Att[\"body\"] = threads_Att.apply(lambda row: row[\"recordType\"] if row[\"recordType\"] not in [\"incomingMessage\",\"outgoingMessage\"] else row[\"body\"], axis=1)\n",
    "threads_Att[\"data-time\"] = pd.to_datetime(threads_Att[\"timestamp\"], unit='ms')\n",
    "threads_Att = threads_Att.rename(columns={\"body\": \"message\",\"contentType\":\"content-type\"})\n",
    "\n",
    "os.makedirs(os.path.join(out_path,'att'), exist_ok=True)\n",
    "\n",
    "def copyAttachments(rec,zip):\n",
    "    if type(rec[\"localRelativeFilePath\"]) == str:\n",
    "        outfilename = os.path.join(out_path,'att',rec[\"localRelativeFilePath\"].replace('/','_'))\n",
    "        with open(outfilename,\"wb\") as out:\n",
    "            out.write(zip.open(''.join([signal_root,rec[\"localRelativeFilePath\"]])).read())\n",
    "        return \"/\".join(outfilename.split('/')[3:])\n",
    "\n",
    "\n",
    "with zipfile.ZipFile(ios_fs_zip) as zip:\n",
    "    threads_Att[\"file-path\"] = threads_Att.apply(lambda rec: copyAttachments(rec,zip), axis=1)\n"
   ]
  },
  {
   "cell_type": "code",
   "execution_count": 320,
   "metadata": {},
   "outputs": [],
   "source": [
    "with open(os.path.join(out_path,'signal.html'),'w') as out:\n",
    "    out.write('<html><head>')\n",
    "    out.write(CSS)\n",
    "    out.write('</head>')\n",
    "    out.write(chat_HTML)\n",
    "    out.write(includes)\n",
    "    out.write(render_chat(threads_Att))\n",
    "    out.write('</body></html>')"
   ]
  },
  {
   "cell_type": "code",
   "execution_count": null,
   "metadata": {},
   "outputs": [],
   "source": []
  }
 ],
 "metadata": {
  "kernelspec": {
   "display_name": "Python 3",
   "language": "python",
   "name": "python3"
  },
  "language_info": {
   "codemirror_mode": {
    "name": "ipython",
    "version": 3
   },
   "file_extension": ".py",
   "mimetype": "text/x-python",
   "name": "python",
   "nbconvert_exporter": "python",
   "pygments_lexer": "ipython3",
   "version": "3.9.0"
  }
 },
 "nbformat": 4,
 "nbformat_minor": 4
}
