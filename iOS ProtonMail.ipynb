{
 "cells": [
  {
   "cell_type": "code",
   "execution_count": 1,
   "id": "official-inclusion",
   "metadata": {},
   "outputs": [],
   "source": [
    "import os\n",
    "import plistlib\n",
    "from base64 import b64encode, b64decode\n",
    "import pandas\n",
    "from datetime import datetime\n",
    "import pgpy\n",
    "import html\n",
    "import json\n",
    "from hexdump import hexdump\n",
    "import ccl_bplist\n",
    "from io import BytesIO\n",
    "from Crypto.Cipher import AES\n",
    "import sqlite3\n",
    "import hashlib"
   ]
  },
  {
   "cell_type": "code",
   "execution_count": 2,
   "id": "atmospheric-steam",
   "metadata": {},
   "outputs": [],
   "source": [
    "#Constants\n",
    "\n",
    "out_path = '../mnt2/tests_proton/'\n",
    "extraction_path = '../mnt2/tests_proton/PIN'\n",
    "db_name = 'ProtonMail.sqlite'\n",
    "plist_name = 'group.ch.protonmail.protonmail.plist'\n",
    "keychain_plist_path = os.path.join(out_path,'PIN','keychain_decrypted.plist')\n",
    "IVsize = 16\n",
    "pin=b'123456'\n",
    "\n",
    "#making a list of files in path\n",
    "files=[]\n",
    "for r, d, f in os.walk(extraction_path):\n",
    "    for file in f:\n",
    "         files.append(os.path.join(r, file))\n"
   ]
  },
  {
   "cell_type": "markdown",
   "id": "constant-scottish",
   "metadata": {},
   "source": [
    "### Extracting Private Key\n",
    "#### Getting Protonmail values from decrypted keychain"
   ]
  },
  {
   "cell_type": "code",
   "execution_count": 3,
   "id": "olympic-poultry",
   "metadata": {},
   "outputs": [],
   "source": [
    "with open(keychain_plist_path,'rb') as f :\n",
    "    plist = plistlib.load(f)\n",
    "    \n",
    "keychainVal={}\n",
    "if type(plist) == list:\n",
    "    for dd in plist:\n",
    "        if type(dd) == dict:        \n",
    "            if 'svce' in dd:\n",
    "                if 'protonmail' in str(dd['svce']) :\n",
    "                    #print(dd)\n",
    "                    keychainVal[dd['acct']]=dd['v_Data']\n",
    "else:\n",
    "    for d in plist:\n",
    "        for dd in plist[d]:\n",
    "            if type(dd) == dict:        \n",
    "                if 'svce' in dd:\n",
    "                    if 'protonmail' in str(dd['svce']):\n",
    "                        #print(dd)\n",
    "                        keychainVal[dd['acct']]=dd['v_Data']\n"
   ]
  },
  {
   "cell_type": "markdown",
   "id": "recreational-skiing",
   "metadata": {},
   "source": [
    "#### Decrypt and extract private Key"
   ]
  },
  {
   "cell_type": "code",
   "execution_count": 7,
   "id": "honest-biography",
   "metadata": {},
   "outputs": [],
   "source": [
    "\"\"\"\n",
    "keys (except Master) are in bplist in Preference along with DB\n",
    "decrypt plist with MainKey, parse bplist and extract privateKeyCoderKey \n",
    "\"\"\"\n",
    "\n",
    "def getMainKeyFromPinProtection(pin):\n",
    "    salt = keychainVal['PinProtection.salt']\n",
    "    encMainKey = keychainVal['PinProtection']\n",
    "    \n",
    "    ikey = hashlib.scrypt(pin, salt=salt, n=32768, r=8, p=1, maxmem=33*1024*1024, dklen=32)\n",
    "    cipher = AES.new(ikey, AES.MODE_CTR, initial_value=encMainKey[:IVsize], nonce=b'')\n",
    "    mainKey = bytes(plistlib.loads(cipher.decrypt(encMainKey[IVsize:])))\n",
    "\n",
    "    \n",
    "if 'NoneProtection' in keychainVal:\n",
    "    mainKey = keychainVal['NoneProtection']\n",
    "elif 'PinProtection' in keychainVal:\n",
    "    if len(pin) == 0:\n",
    "        print('Need to crack pin first')\n",
    "        \n",
    "    mainKey = getMainKeyFromPinProtection(pin)\n",
    "    \n",
    "\n",
    "def decryptWithMainKey(encrypted):\n",
    "    iv = encrypted[:IVsize]\n",
    "    cipher = AES.new(mainKey, AES.MODE_CTR, initial_value=iv, nonce=b'')\n",
    "    return cipher.decrypt(encrypted[IVsize:])\n",
    "\n",
    "for fi in [f for f in files if f.endswith(plist_name)]:\n",
    "    with open(fi,'rb') as p :\n",
    "        prefplist = plistlib.load(p)\n",
    "\n",
    "if mainKey:\n",
    "    enc_val = prefplist['authKeychainStoreKeyProtectedWithMainKey']\n",
    "    dec_val = decryptWithMainKey(enc_val)\n",
    "\n",
    "    keychainStorePlist1 = ccl_bplist.load(BytesIO(dec_val))\n",
    "    keychainStorePlist = ccl_bplist.load(BytesIO(keychainStorePlist1[0]))\n",
    "    keychainStore = ccl_bplist.deserialise_NsKeyedArchiver(keychainStorePlist, parse_whole_structure=True)\n",
    "    privateKeyCoderKey = keychainStore['root']['NS.objects'][0]['privateKeyCoderKey']"
   ]
  },
  {
   "cell_type": "markdown",
   "id": "naked-moment",
   "metadata": {},
   "source": [
    "### Getting data from DB"
   ]
  },
  {
   "cell_type": "code",
   "execution_count": 92,
   "id": "flexible-spell",
   "metadata": {},
   "outputs": [],
   "source": [
    "try:\n",
    "    db_file = [f for f in files if f.endswith(db_name)][0]\n",
    "except:\n",
    "    print('File {} not found in provided path'.format(db_name))\n",
    "    \n",
    "db = sqlite3.connect(db_file)\n",
    "\n",
    "df = pandas.read_sql_query(\"\"\"\n",
    "SELECT\n",
    "    m.ZTIME,\n",
    "    m.ZBODY,\n",
    "    m.ZMIMETYPE,\n",
    "    m.ZTOLIST,\n",
    "    m.ZREPLYTOS,\n",
    "    m.ZSENDER,\n",
    "    m.ZTITLE,\n",
    "    m.ZISENCRYPTED\n",
    "FROM\n",
    "    ZMESSAGE m\n",
    "\"\"\",db)\n",
    "\n",
    "df['datetime'] = pandas.to_datetime(df['ZTIME'], origin=pandas.Timestamp('2001-01-01'), unit='s')"
   ]
  },
  {
   "cell_type": "markdown",
   "id": "assisted-barbados",
   "metadata": {},
   "source": [
    "### Decrypting message"
   ]
  },
  {
   "cell_type": "code",
   "execution_count": 136,
   "id": "filled-mapping",
   "metadata": {},
   "outputs": [],
   "source": [
    "#load private key\n",
    "\n",
    "key, _ = pgpy.PGPKey.from_blob(privateKeyCoderKey)\n",
    "\n",
    "pwdKey = keychainStore['root']['NS.objects'][0]['AuthCredential.Password']\n",
    "\n",
    "def decrypt_message(encm):\n",
    "    if('-----BEGIN PGP MESSAGE-----') in encm:\n",
    "        with key.unlock(pwdKey):\n",
    "            assert key.is_unlocked\n",
    "            message_from_blob = pgpy.PGPMessage.from_blob(encm)\n",
    "            decm = key.decrypt(message_from_blob).message\n",
    "            #print(decm)\n",
    "            return html.unescape(decm.encode('cp1252', errors='ignore').decode('utf8', errors='ignore'))\n",
    "    else:\n",
    "        return encm\n",
    "    \n",
    "df['decrypted_message'] = df['ZBODY'].apply(decrypt_message)\n",
    "\n",
    "\n",
    "def parse_sender_recipient(row):\n",
    "    sender = json.loads(plistlib.loads(decryptWithMainKey(row['ZSENDER']))[0])\n",
    "    to = json.loads(plistlib.loads(decryptWithMainKey(row['ZTOLIST']))[0])\n",
    "    row['Sender'] = \"{} <{}>\".format(sender['Name'],sender['Address'])\n",
    "    row['Recipients'] = \"\"\n",
    "    for r in to:\n",
    "        row['Recipients'] += \"{} <{}><br />\".format(r['Name'],r['Address'])\n",
    "    row['Title'] = plistlib.loads(decryptWithMainKey(df.iloc[0]['ZTITLE']))[0]\n",
    "    return row\n",
    "\n",
    "df = df.apply(lambda r:parse_sender_recipient(r), axis=1)"
   ]
  },
  {
   "cell_type": "markdown",
   "id": "mighty-exception",
   "metadata": {},
   "source": [
    "## Export as dynamic table"
   ]
  },
  {
   "cell_type": "code",
   "execution_count": null,
   "id": "floral-concord",
   "metadata": {},
   "outputs": [],
   "source": [
    "from dynamic_table import *"
   ]
  },
  {
   "cell_type": "code",
   "execution_count": null,
   "id": "aware-cleaners",
   "metadata": {},
   "outputs": [],
   "source": [
    "df_export = df[['datetime','Sender','Recipients','Title','decrypted_message']]\n",
    "\n",
    "df_export = df_export.rename(columns={\n",
    "    \"datetime\":\"Date/Heure (UTC)\",\n",
    "    \"Sender\":\"Expéditeur\",\n",
    "    \"Recipients\":\"Destinataires\",\n",
    "    \"Title\":\"Sujet\",\n",
    "    \"decrypted_message\":\"Message\"\n",
    "})\n",
    "\n",
    "html_str = html_head +table_header_part1\n",
    "table_cols = ''\n",
    "for c in df_export.columns.values:\n",
    "    table_cols += table_header_col.format(c,c)\n",
    "    \n",
    "html_str += table_cols + table_header_part2\n",
    "\n",
    "html_rows=''\n",
    "for index,row in df_export.iterrows():\n",
    "    html_rows += table_body_row.format(index)\n",
    "    for _,v in row.items():\n",
    "        html_rows += '<td>{}</td>'.format(v)\n",
    "    html_rows += '</tr>'\n",
    "\n",
    "html_str += html_rows + table_body_footer + js\n",
    "\n",
    "with open(os.path.join(out_path,'protonmail_table.html'),'w') as out:\n",
    "    out.write(html)\n",
    "    out.write('</body></html>')"
   ]
  },
  {
   "cell_type": "code",
   "execution_count": null,
   "id": "forward-intake",
   "metadata": {},
   "outputs": [],
   "source": [
    "df_export.to_excel(os.path.join(out_path,'messages_protonmail.xlsx'), sheet_name=\"ProtonMail\", index=False)"
   ]
  },
  {
   "cell_type": "markdown",
   "id": "bronze-holder",
   "metadata": {},
   "source": [
    "## Bruteforce PIN"
   ]
  },
  {
   "cell_type": "code",
   "execution_count": 17,
   "id": "molecular-cannon",
   "metadata": {},
   "outputs": [
    {
     "data": {
      "application/vnd.jupyter.widget-view+json": {
       "model_id": "bca150c894884d8eaf15b43df06ea351",
       "version_major": 2,
       "version_minor": 0
      },
      "text/plain": [
       "HBox(children=(HTML(value=''), FloatProgress(value=0.0, max=1000000.0), HTML(value='')))"
      ]
     },
     "metadata": {},
     "output_type": "display_data"
    },
    {
     "name": "stdout",
     "output_type": "stream",
     "text": [
      "found :b'123456'\n",
      "\n"
     ]
    }
   ],
   "source": [
    "import multiprocessing\n",
    "import itertools\n",
    "from tqdm.contrib.concurrent import process_map\n",
    "\n",
    "charset=\"1234567890\"\n",
    "\n",
    "salt = keychainVal['PinProtection.salt']\n",
    "encMainKey = keychainVal['PinProtection']\n",
    "    \n",
    "# Number of digits of the PIN\n",
    "numCar = 6\n",
    "    \n",
    "def worker(pin):\n",
    "    ikey = hashlib.scrypt(pin, salt=salt, n=32768, r=8, p=1, maxmem=33*1024*1024, dklen=32)\n",
    "    cipher = AES.new(ikey, AES.MODE_CTR, initial_value=encMainKey[:IVsize], nonce=b'')\n",
    "    mainKey = cipher.decrypt(encMainKey[IVsize:])\n",
    "\n",
    "    if b'bplist' in mainKey:\n",
    "        print('found :%s'%(pin))\n",
    "        #break\n",
    "    return\n",
    "\n",
    "def iterator(numCar):\n",
    "    start = 0\n",
    "    for n in range(0,10**numCar):\n",
    "        formatstring = '{'+':0{}d'.format(numCar)+'}'\n",
    "        yield(bytes(formatstring.format(n).encode('utf8')))\n",
    "    \n",
    "with multiprocessing.Pool(10) as workers:\n",
    "    total = 10**numCar\n",
    "    candidates = itertools.product(charset, repeat=6)\n",
    "    r = process_map(worker, \n",
    "                    iterator(numCar), \n",
    "                    max_workers=10, \n",
    "                    chunksize=100, \n",
    "                    total=total\n",
    "                   )\n",
    "\n",
    "    "
   ]
  },
  {
   "cell_type": "code",
   "execution_count": null,
   "id": "public-consolidation",
   "metadata": {},
   "outputs": [],
   "source": []
  },
  {
   "cell_type": "code",
   "execution_count": null,
   "id": "grave-pitch",
   "metadata": {},
   "outputs": [],
   "source": []
  }
 ],
 "metadata": {
  "kernelspec": {
   "display_name": "Python 3",
   "language": "python",
   "name": "python3"
  },
  "language_info": {
   "codemirror_mode": {
    "name": "ipython",
    "version": 3
   },
   "file_extension": ".py",
   "mimetype": "text/x-python",
   "name": "python",
   "nbconvert_exporter": "python",
   "pygments_lexer": "ipython3",
   "version": "3.9.0"
  }
 },
 "nbformat": 4,
 "nbformat_minor": 5
}
